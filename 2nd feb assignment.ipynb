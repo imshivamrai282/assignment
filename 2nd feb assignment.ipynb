{
 "cells": [
  {
   "cell_type": "markdown",
   "id": "0006217f-822e-4e40-8a07-363595cb8740",
   "metadata": {},
   "source": [
    "Ans1"
   ]
  },
  {
   "cell_type": "markdown",
   "id": "20ddd41b-3519-49c5-937e-13d848fe8f63",
   "metadata": {},
   "source": [
    "In Python, both 'for' and 'while' loops are used for iteration, but they have different use cases\n",
    "depending on the situation.\n",
    "A for loop is generally used when you know the number of times you want to execute a block of \n",
    "code. for example--"
   ]
  },
  {
   "cell_type": "code",
   "execution_count": 1,
   "id": "2c0c8fd6-99f0-44af-86a2-dff426252d6c",
   "metadata": {},
   "outputs": [
    {
     "name": "stdout",
     "output_type": "stream",
     "text": [
      "1\n",
      "2\n",
      "3\n",
      "4\n",
      "5\n"
     ]
    }
   ],
   "source": [
    "l = [1,2,3,4,5]\n",
    "for i in l:\n",
    "    print(i)"
   ]
  },
  {
   "cell_type": "markdown",
   "id": "0fc909b5-2aaf-4b39-b3cf-162551b31eef",
   "metadata": {},
   "source": [
    "On the other hand, a while loop is generally used when you don't know the number of times \n",
    "you want to execute a block of code, but you have a condition that needs to be met to continue\n",
    "looping.For example--"
   ]
  },
  {
   "cell_type": "code",
   "execution_count": 2,
   "id": "b8ec000c-0821-461e-8e01-9460403d7c04",
   "metadata": {},
   "outputs": [
    {
     "name": "stdin",
     "output_type": "stream",
     "text": [
      "Enter the number here 5\n"
     ]
    },
    {
     "name": "stdout",
     "output_type": "stream",
     "text": [
      "1\n",
      "2\n",
      "3\n",
      "4\n",
      "5\n"
     ]
    }
   ],
   "source": [
    "n = int(input('Enter the number here'))\n",
    "i = 1\n",
    "while i <= n:\n",
    "    print(i)\n",
    "    i = i + 1"
   ]
  },
  {
   "cell_type": "markdown",
   "id": "ab59ef55-dcc6-487e-98c5-f2ad8d53d5a5",
   "metadata": {},
   "source": [
    "Ans2"
   ]
  },
  {
   "cell_type": "markdown",
   "id": "7682d4f2-371d-4db8-a611-c68cdd39c8db",
   "metadata": {},
   "source": [
    "1- Using for loop-\n",
    "A-Sum"
   ]
  },
  {
   "cell_type": "code",
   "execution_count": 3,
   "id": "46073454-5fae-449e-bdb8-fb6dc9b5715e",
   "metadata": {},
   "outputs": [
    {
     "name": "stdout",
     "output_type": "stream",
     "text": [
      "55\n"
     ]
    }
   ],
   "source": [
    "l = [1,2,3,4,5,6,7,8,9,10]\n",
    "s = 0\n",
    "for i in l:\n",
    "    s = s + i\n",
    "print(s)\n",
    "     "
   ]
  },
  {
   "cell_type": "markdown",
   "id": "9fdd775d-eeeb-4268-a8e6-d7ed0468093c",
   "metadata": {},
   "source": [
    "B- Product"
   ]
  },
  {
   "cell_type": "code",
   "execution_count": 4,
   "id": "01f1992e-2861-447b-bc8b-4c321236e78f",
   "metadata": {},
   "outputs": [
    {
     "name": "stdout",
     "output_type": "stream",
     "text": [
      "3628800\n"
     ]
    }
   ],
   "source": [
    "l = [1,2,3,4,5,6,7,8,9,10]\n",
    "p = 1\n",
    "for i in l:\n",
    "    p = p*i\n",
    "print(p)    "
   ]
  },
  {
   "cell_type": "markdown",
   "id": "501dbee0-7f02-40f6-8233-37df7b1dd2f0",
   "metadata": {},
   "source": [
    "2- Using while loop\n",
    "A- sum"
   ]
  },
  {
   "cell_type": "code",
   "execution_count": 5,
   "id": "8718d79c-4190-439f-be37-6c37dcd3b856",
   "metadata": {},
   "outputs": [
    {
     "name": "stdin",
     "output_type": "stream",
     "text": [
      "Sum of first 10 natural number 10\n"
     ]
    },
    {
     "name": "stdout",
     "output_type": "stream",
     "text": [
      "55\n"
     ]
    }
   ],
   "source": [
    "n = int(input('Sum of first 10 natural number'))\n",
    "s = 0\n",
    "i = 1\n",
    "while i <= n:\n",
    "    s = s + i\n",
    "    i = i + 1\n",
    "print(s)    "
   ]
  },
  {
   "cell_type": "markdown",
   "id": "6044f0c7-19a6-4a94-b141-996a81263a4a",
   "metadata": {},
   "source": [
    "B- Product"
   ]
  },
  {
   "cell_type": "code",
   "execution_count": 6,
   "id": "d718ae9c-562f-4dcc-9078-7a782bddbba9",
   "metadata": {},
   "outputs": [
    {
     "name": "stdin",
     "output_type": "stream",
     "text": [
      "Product of 10 natural number 10\n"
     ]
    },
    {
     "name": "stdout",
     "output_type": "stream",
     "text": [
      "3628800\n"
     ]
    }
   ],
   "source": [
    "n = int(input('Product of 10 natural number'))\n",
    "p = 1\n",
    "i = 1\n",
    "while i <= n:\n",
    "    p = p*i\n",
    "    i = i+1\n",
    "print(p)    "
   ]
  },
  {
   "cell_type": "markdown",
   "id": "33eca78a-b693-45b0-8a11-04a0163cdc0c",
   "metadata": {},
   "source": [
    "Ans3"
   ]
  },
  {
   "cell_type": "code",
   "execution_count": 7,
   "id": "958c3af3-0205-4252-813a-279bc9de6004",
   "metadata": {},
   "outputs": [
    {
     "name": "stdin",
     "output_type": "stream",
     "text": [
      "Enter the number of units consumed:  310\n"
     ]
    },
    {
     "name": "stdout",
     "output_type": "stream",
     "text": [
      "The electricity bill for this household is Rs. 2250.0\n"
     ]
    }
   ],
   "source": [
    "# Constants\n",
    "BASE_PRICE = 0  # Base price in Rs.\n",
    "PRICE_TIER_1 = 4.5  # Price per unit for first 100 units in Rs.\n",
    "PRICE_TIER_2 = 6  # Price per unit for next 100 units in Rs.\n",
    "PRICE_TIER_3 = 10  # Price per unit for next 100 units in Rs.\n",
    "PRICE_TIER_4 = 20  # Price per unit for units above 300 in Rs.\n",
    "\n",
    "# Input the number of units consumed\n",
    "units_consumed = int(input(\"Enter the number of units consumed: \"))\n",
    "\n",
    "# Compute the bill amount\n",
    "if units_consumed <= 100:\n",
    "    bill_amount = units_consumed * PRICE_TIER_1\n",
    "elif units_consumed <= 200:\n",
    "    bill_amount = (100 * PRICE_TIER_1) + ((units_consumed - 100) * PRICE_TIER_2)\n",
    "elif units_consumed <= 300:\n",
    "    bill_amount = (100 * PRICE_TIER_1) + (100 * PRICE_TIER_2) + ((units_consumed - 200) * PRICE_TIER_3)\n",
    "else:\n",
    "    bill_amount = (100 * PRICE_TIER_1) + (100 * PRICE_TIER_2) + (100 * PRICE_TIER_3) + ((units_consumed - 300) * PRICE_TIER_4)\n",
    "\n",
    "# Add the base price\n",
    "bill_amount = bill_amount + BASE_PRICE\n",
    "\n",
    "# Print the bill amount\n",
    "print(\"The electricity bill for this household is Rs.\", bill_amount)\n"
   ]
  },
  {
   "cell_type": "markdown",
   "id": "0f756585-39d6-49a8-88da-7898ad096f5a",
   "metadata": {},
   "source": [
    "Ans4"
   ]
  },
  {
   "cell_type": "code",
   "execution_count": 8,
   "id": "6f9b5078-acfe-41c5-80c6-5d1a1f190cb1",
   "metadata": {},
   "outputs": [],
   "source": [
    "## Using For Loop"
   ]
  },
  {
   "cell_type": "code",
   "execution_count": 9,
   "id": "5dd232ed-cd20-4b8a-a193-576c36d5252a",
   "metadata": {},
   "outputs": [
    {
     "data": {
      "text/plain": [
       "range(1, 101)"
      ]
     },
     "execution_count": 9,
     "metadata": {},
     "output_type": "execute_result"
    }
   ],
   "source": [
    " range(1,101)"
   ]
  },
  {
   "cell_type": "code",
   "execution_count": 10,
   "id": "24a6dc9f-b051-478f-9f05-6456cb1e3680",
   "metadata": {},
   "outputs": [
    {
     "name": "stdout",
     "output_type": "stream",
     "text": [
      "[2, 4, 5, 6, 8, 10, 12, 14, 15, 16, 18, 20, 22, 24, 25, 26, 28, 30, 32, 34, 35, 36, 38, 40, 42, 44, 45, 46, 48, 50, 52, 54, 55, 56, 58, 60, 62, 64, 65, 66, 68, 70, 72, 74, 75, 76, 78, 80, 82, 84, 85, 86, 88, 90, 92, 94, 95, 96, 98, 100]\n"
     ]
    }
   ],
   "source": [
    "cubes = []\n",
    "for i in range(1,101):\n",
    "    cube = i ** 3\n",
    "    if cube % 4 == 0 or cube % 5 == 0:\n",
    "        cubes.append(i)\n",
    "print(cubes)        "
   ]
  },
  {
   "cell_type": "code",
   "execution_count": 1,
   "id": "8e19bed7-eefc-41fb-847e-40b4ef477915",
   "metadata": {},
   "outputs": [],
   "source": [
    "## Now using While loop"
   ]
  },
  {
   "cell_type": "code",
   "execution_count": 7,
   "id": "e2e79b5d-e327-4a46-aa0a-97a62f90bd6c",
   "metadata": {},
   "outputs": [
    {
     "name": "stdout",
     "output_type": "stream",
     "text": [
      "[2, 4, 5, 6, 8, 10, 12, 14, 15, 16, 18, 20, 22, 24, 25, 26, 28, 30, 32, 34, 35, 36, 38, 40, 42, 44, 45, 46, 48, 50, 52, 54, 55, 56, 58, 60, 62, 64, 65, 66, 68, 70, 72, 74, 75, 76, 78, 80, 82, 84, 85, 86, 88, 90, 92, 94, 95, 96, 98, 100]\n"
     ]
    }
   ],
   "source": [
    "cubes = []\n",
    "i = 1\n",
    "while i <= 100:\n",
    "    cube = i**3\n",
    "    if cube % 4 == 0 or cube % 5 == 0:\n",
    "        cubes.append(i)\n",
    "    i = i + 1\n",
    "print(cubes)    \n",
    "    "
   ]
  },
  {
   "cell_type": "markdown",
   "id": "f4b7d4bc-1a7d-4553-8f56-44748a115095",
   "metadata": {},
   "source": [
    "Ans5"
   ]
  },
  {
   "cell_type": "code",
   "execution_count": 11,
   "id": "45978e12-0540-4460-921d-44e30e39cafb",
   "metadata": {},
   "outputs": [],
   "source": [
    "string = \"I want to become a data scientist\""
   ]
  },
  {
   "cell_type": "code",
   "execution_count": 12,
   "id": "3835193c-7725-4578-b7aa-795747ce34b2",
   "metadata": {},
   "outputs": [],
   "source": [
    "s = string.lower()"
   ]
  },
  {
   "cell_type": "code",
   "execution_count": 13,
   "id": "a344acd6-47c5-464e-bbbb-903465f6888b",
   "metadata": {},
   "outputs": [
    {
     "data": {
      "text/plain": [
       "'i want to become a data scientist'"
      ]
     },
     "execution_count": 13,
     "metadata": {},
     "output_type": "execute_result"
    }
   ],
   "source": [
    "s"
   ]
  },
  {
   "cell_type": "code",
   "execution_count": 15,
   "id": "98cf6e4a-2c2b-42c7-83bf-bf2d53560f1c",
   "metadata": {},
   "outputs": [],
   "source": [
    "v = ['a','e','i','o','u']"
   ]
  },
  {
   "cell_type": "code",
   "execution_count": 17,
   "id": "b4c37b0a-5423-4e8d-b992-2a8d1a04fe71",
   "metadata": {},
   "outputs": [
    {
     "name": "stdout",
     "output_type": "stream",
     "text": [
      "12\n"
     ]
    }
   ],
   "source": [
    "count = 0\n",
    "for i in s:\n",
    "    if i in v:\n",
    "        count = count + 1\n",
    "print(count)        \n",
    "        "
   ]
  },
  {
   "cell_type": "code",
   "execution_count": null,
   "id": "5c9a0949-84ce-40aa-bfb9-fd89af84e3c4",
   "metadata": {},
   "outputs": [],
   "source": []
  }
 ],
 "metadata": {
  "kernelspec": {
   "display_name": "Python 3 (ipykernel)",
   "language": "python",
   "name": "python3"
  },
  "language_info": {
   "codemirror_mode": {
    "name": "ipython",
    "version": 3
   },
   "file_extension": ".py",
   "mimetype": "text/x-python",
   "name": "python",
   "nbconvert_exporter": "python",
   "pygments_lexer": "ipython3",
   "version": "3.10.8"
  }
 },
 "nbformat": 4,
 "nbformat_minor": 5
}
