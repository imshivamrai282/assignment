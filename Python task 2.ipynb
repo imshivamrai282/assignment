{
 "cells": [
  {
   "cell_type": "markdown",
   "id": "42cfd344-0273-4713-a584-f977883f97e8",
   "metadata": {},
   "source": [
    "Ans1"
   ]
  },
  {
   "cell_type": "code",
   "execution_count": 19,
   "id": "013c5d8a-4354-45e3-8726-ead79b4b3142",
   "metadata": {},
   "outputs": [],
   "source": [
    "def check_password(password):\n",
    "    uppercase_count = 0\n",
    "    lowercase_count = 0\n",
    "    number_count = 0\n",
    "    special_character_count = 0\n",
    "    if len(password) != 10:\n",
    "        return \"Invalid password\"\n",
    "    \n",
    "    for i in password:\n",
    "        if i.isupper():\n",
    "            uppercase_count = uppercase_count + 1\n",
    "        elif i.islower():\n",
    "            lowercase_count = lowercase_count + 1\n",
    "        elif i.isdigit ():\n",
    "            number_count = number_count + 1\n",
    "        elif i in \"!@#$%^&*()_+-=[]{}|;':\\\",./<>?\":\n",
    "            special_character_count = special_character_count + 1\n",
    "            \n",
    "    if uppercase_count < 2 and lowercase_count < 2 and number_count < 1 and special_character_count < 3:\n",
    "        return \"Invalid password\"\n",
    "    else:\n",
    "        return \"valid password\"\n",
    "    \n",
    "            "
   ]
  },
  {
   "cell_type": "code",
   "execution_count": 20,
   "id": "4889d4b0-cd10-4373-b7a9-c88ed672c6cc",
   "metadata": {},
   "outputs": [],
   "source": [
    "password = \"ABCabc@#$%^12345\""
   ]
  },
  {
   "cell_type": "code",
   "execution_count": 21,
   "id": "0d060dbf-529c-4484-acaa-a09310e903c7",
   "metadata": {},
   "outputs": [
    {
     "data": {
      "text/plain": [
       "'Invalid password'"
      ]
     },
     "execution_count": 21,
     "metadata": {},
     "output_type": "execute_result"
    }
   ],
   "source": [
    "check_password(password)"
   ]
  },
  {
   "cell_type": "markdown",
   "id": "a00ca73f-5e03-4502-bcc2-36740e6dbabc",
   "metadata": {},
   "source": [
    "Ans2"
   ]
  },
  {
   "cell_type": "markdown",
   "id": "c870a591-210f-414f-9897-62a7d68d8139",
   "metadata": {},
   "source": [
    "1"
   ]
  },
  {
   "cell_type": "code",
   "execution_count": 27,
   "id": "4dcda687-8a68-4898-a769-abf1d815ebb7",
   "metadata": {},
   "outputs": [],
   "source": [
    "l = ['Shivam','Satyam','Shriyansh','Sneha','Aastha','Ashmita','Tisha','Kamakshi']"
   ]
  },
  {
   "cell_type": "code",
   "execution_count": 30,
   "id": "4f653c6d-6ae6-48c4-99ea-519a3c24db56",
   "metadata": {},
   "outputs": [
    {
     "data": {
      "text/plain": [
       "['Shivam', 'Satyam', 'Shriyansh', 'Sneha']"
      ]
     },
     "execution_count": 30,
     "metadata": {},
     "output_type": "execute_result"
    }
   ],
   "source": [
    "list(filter(lambda s: s.startswith('S'),l))"
   ]
  },
  {
   "cell_type": "markdown",
   "id": "3adf9bd3-2d61-4db1-9131-a354e387c126",
   "metadata": {},
   "source": [
    "2"
   ]
  },
  {
   "cell_type": "code",
   "execution_count": 38,
   "id": "dd9d1565-269e-44f4-bf47-8b16f97ccc42",
   "metadata": {},
   "outputs": [],
   "source": [
    "is_numeric = lambda s: s.isnumeric()\n"
   ]
  },
  {
   "cell_type": "code",
   "execution_count": 40,
   "id": "b5693ea0-4a26-4c79-9b05-5ad2b890c98d",
   "metadata": {},
   "outputs": [
    {
     "name": "stdout",
     "output_type": "stream",
     "text": [
      "['123', '789']\n"
     ]
    }
   ],
   "source": [
    "my_list = ['123', '45.6', 'hello', '789']\n",
    "filtered_list = list(filter(is_numeric, my_list))\n",
    "print(filtered_list)  \n"
   ]
  },
  {
   "cell_type": "markdown",
   "id": "261eafc4-fd69-4395-aff2-69bd0b907c69",
   "metadata": {},
   "source": [
    "3"
   ]
  },
  {
   "cell_type": "code",
   "execution_count": 50,
   "id": "ae6219e2-9e00-4ac9-befd-63780b2af5bd",
   "metadata": {},
   "outputs": [
    {
     "name": "stdout",
     "output_type": "stream",
     "text": [
      "[('orange', 80), ('mango', 99), ('grapes', 1000)]\n"
     ]
    }
   ],
   "source": [
    "fruits = [(\"mango\", 99), (\"orange\", 80), (\"grapes\", 1000)]\n",
    "\n",
    "# Sort the list of tuples based on the quantity of fruits\n",
    "sorted_fruits = sorted(fruits, key=lambda x: x[1])\n",
    "\n",
    "# Print the sorted list of tuples\n",
    "print(sorted_fruits)  # Output: [('orange', 80), ('mango', 99), ('grapes', 1000)]\n"
   ]
  },
  {
   "cell_type": "markdown",
   "id": "a00feed7-cba3-4b3c-bc34-c5793634f91c",
   "metadata": {},
   "source": [
    "4"
   ]
  },
  {
   "cell_type": "code",
   "execution_count": 51,
   "id": "5351ce54-b426-4942-9ed3-3c02b2d349c4",
   "metadata": {},
   "outputs": [],
   "source": [
    "l = [1,2,3,4,5,6,7,8,9,10]"
   ]
  },
  {
   "cell_type": "code",
   "execution_count": 55,
   "id": "a4bd690d-917b-4be3-b253-8a0dc57ef9b1",
   "metadata": {},
   "outputs": [],
   "source": [
    "r = list(map(lambda x : x**2,l))"
   ]
  },
  {
   "cell_type": "code",
   "execution_count": 56,
   "id": "2fba2069-ef55-44d6-80f1-eed787dba79e",
   "metadata": {},
   "outputs": [
    {
     "data": {
      "text/plain": [
       "[1, 4, 9, 16, 25, 36, 49, 64, 81, 100]"
      ]
     },
     "execution_count": 56,
     "metadata": {},
     "output_type": "execute_result"
    }
   ],
   "source": [
    "r"
   ]
  },
  {
   "cell_type": "markdown",
   "id": "cb30d500-6dca-48b8-b9d7-9bd32d9964a6",
   "metadata": {},
   "source": [
    "5"
   ]
  },
  {
   "cell_type": "code",
   "execution_count": 57,
   "id": "abc562ba-86e0-4992-9560-59440c142a7a",
   "metadata": {},
   "outputs": [
    {
     "data": {
      "text/plain": [
       "[1, 2, 3, 4, 5, 6, 7, 8, 9, 10]"
      ]
     },
     "execution_count": 57,
     "metadata": {},
     "output_type": "execute_result"
    }
   ],
   "source": [
    "l"
   ]
  },
  {
   "cell_type": "code",
   "execution_count": 58,
   "id": "11537886-8f6f-4e2c-8bc2-47284b71004c",
   "metadata": {},
   "outputs": [
    {
     "data": {
      "text/plain": [
       "[0.3333333333333333,\n",
       " 0.6666666666666666,\n",
       " 1.0,\n",
       " 1.3333333333333333,\n",
       " 1.6666666666666667,\n",
       " 2.0,\n",
       " 2.3333333333333335,\n",
       " 2.6666666666666665,\n",
       " 3.0,\n",
       " 3.3333333333333335]"
      ]
     },
     "execution_count": 58,
     "metadata": {},
     "output_type": "execute_result"
    }
   ],
   "source": [
    "list(map(lambda x :x**1/3,l))"
   ]
  },
  {
   "cell_type": "markdown",
   "id": "f9bfc029-9144-45e1-ab57-efa196198768",
   "metadata": {},
   "source": [
    "6"
   ]
  },
  {
   "cell_type": "code",
   "execution_count": 59,
   "id": "191a9d5c-96ab-4f89-b1ae-035df8b00956",
   "metadata": {},
   "outputs": [],
   "source": [
    "def even(number):\n",
    "    if number % 2 != 0:\n",
    "        return \"Not even\"\n",
    "    \n",
    "    else:\n",
    "        return \"Even\""
   ]
  },
  {
   "cell_type": "code",
   "execution_count": 61,
   "id": "e96d5347-ddfd-41c6-89b6-2693f02f8c6b",
   "metadata": {},
   "outputs": [
    {
     "data": {
      "text/plain": [
       "'Even'"
      ]
     },
     "execution_count": 61,
     "metadata": {},
     "output_type": "execute_result"
    }
   ],
   "source": [
    "even(10)"
   ]
  },
  {
   "cell_type": "code",
   "execution_count": 62,
   "id": "3b3a8c81-0928-442d-af8d-a2b4f7341e28",
   "metadata": {},
   "outputs": [
    {
     "data": {
      "text/plain": [
       "'Not even'"
      ]
     },
     "execution_count": 62,
     "metadata": {},
     "output_type": "execute_result"
    }
   ],
   "source": [
    "even(5)"
   ]
  },
  {
   "cell_type": "markdown",
   "id": "84190cf0-2a24-4fc8-bd95-45d1f8079ec4",
   "metadata": {},
   "source": [
    "7"
   ]
  },
  {
   "cell_type": "code",
   "execution_count": 68,
   "id": "b39f9d81-a0d1-4202-b159-24904f7e2288",
   "metadata": {},
   "outputs": [],
   "source": [
    "l = [1,2,3,4,5,6,7,8,9,10]"
   ]
  },
  {
   "cell_type": "code",
   "execution_count": 71,
   "id": "4875df54-ba27-47b7-8797-66186154498a",
   "metadata": {},
   "outputs": [],
   "source": [
    "l1 = []\n",
    "for i in l:\n",
    "     if i % 2 != 0:\n",
    "        l1.append(i)      "
   ]
  },
  {
   "cell_type": "code",
   "execution_count": 72,
   "id": "21466535-9ae3-47a0-a398-fe554adf6962",
   "metadata": {},
   "outputs": [
    {
     "data": {
      "text/plain": [
       "[1, 3, 5, 7, 9]"
      ]
     },
     "execution_count": 72,
     "metadata": {},
     "output_type": "execute_result"
    }
   ],
   "source": [
    "l1"
   ]
  },
  {
   "cell_type": "markdown",
   "id": "6c0824c8-165e-4c33-bca8-01eb98308dcb",
   "metadata": {},
   "source": [
    "8"
   ]
  },
  {
   "cell_type": "code",
   "execution_count": 73,
   "id": "0c4ef603-d987-4e51-afb4-bd08f5263a5b",
   "metadata": {},
   "outputs": [],
   "source": [
    "l =[1,2,3,4,5,6,-1,-2,-3,-4,-5,0]"
   ]
  },
  {
   "cell_type": "code",
   "execution_count": 83,
   "id": "d15a6d64-07b9-46e6-92ab-bed6b490ce08",
   "metadata": {},
   "outputs": [],
   "source": [
    "l1 = []\n",
    "l2 = []\n",
    "positive_number = [i for i in l if i > 0]\n",
    "\n",
    "negative_number = [i for i in l if i < 0]"
   ]
  },
  {
   "cell_type": "code",
   "execution_count": 84,
   "id": "569949e9-bcc2-419e-872e-4766a0b1d43b",
   "metadata": {},
   "outputs": [
    {
     "name": "stdout",
     "output_type": "stream",
     "text": [
      "[1, 2, 3, 4, 5, 6]\n"
     ]
    }
   ],
   "source": [
    "print(positive_number)"
   ]
  },
  {
   "cell_type": "code",
   "execution_count": 85,
   "id": "0d2d8b18-ec41-46d9-9435-9062f69a2bb0",
   "metadata": {},
   "outputs": [
    {
     "name": "stdout",
     "output_type": "stream",
     "text": [
      "[-1, -2, -3, -4, -5]\n"
     ]
    }
   ],
   "source": [
    "print(negative_number)"
   ]
  },
  {
   "cell_type": "code",
   "execution_count": null,
   "id": "61940bd8-ad34-4506-a75e-1bd445bc80df",
   "metadata": {},
   "outputs": [],
   "source": []
  }
 ],
 "metadata": {
  "kernelspec": {
   "display_name": "Python 3 (ipykernel)",
   "language": "python",
   "name": "python3"
  },
  "language_info": {
   "codemirror_mode": {
    "name": "ipython",
    "version": 3
   },
   "file_extension": ".py",
   "mimetype": "text/x-python",
   "name": "python",
   "nbconvert_exporter": "python",
   "pygments_lexer": "ipython3",
   "version": "3.10.8"
  }
 },
 "nbformat": 4,
 "nbformat_minor": 5
}
