{
 "cells": [
  {
   "cell_type": "markdown",
   "id": "fe6bbe55-30a4-4136-9f20-d818d08181ad",
   "metadata": {},
   "source": [
    "Ans1"
   ]
  },
  {
   "cell_type": "markdown",
   "id": "1f300113-46cb-47b7-aa84-00e125f945b0",
   "metadata": {},
   "source": [
    "Abstraction is one of the fundamental concepts of object-oriented programming \n",
    "(OOP) that refers to the process of hiding complex implementation details of a \n",
    "class or object and exposing only the essential features or properties to the \n",
    "user. In other words, abstraction provides a simplified view of an object or \n",
    "system that is easy to understand and use."
   ]
  },
  {
   "cell_type": "code",
   "execution_count": 1,
   "id": "a012b312-4bf2-4335-b3d7-14ea4da0c5ad",
   "metadata": {},
   "outputs": [],
   "source": [
    "#Example\n",
    "import abc\n",
    "class pwskills:\n",
    "    @abc.abstractmethod\n",
    "    def student_details(self):\n",
    "        pass\n",
    "    @abc.abstractmethod\n",
    "    def student_assignment(self):\n",
    "        pass\n",
    "    @abc.abstractmethod\n",
    "    def student_marks(self):\n",
    "        pass"
   ]
  },
  {
   "cell_type": "code",
   "execution_count": 2,
   "id": "729c49f6-a847-4b34-932e-92822db75021",
   "metadata": {},
   "outputs": [],
   "source": [
    "class test_abstract(pwskills):\n",
    "    \n",
    "    def student_details(self):\n",
    "        return \"This will return the details of the student.\"\n",
    "    def student_assignment(self):\n",
    "        return \"This will give details of assignments.\"\n",
    "    def student_marks(self):\n",
    "        return \"This will give marks of student.\""
   ]
  },
  {
   "cell_type": "code",
   "execution_count": 3,
   "id": "567f33c1-3c43-439e-878a-cd44aed39ece",
   "metadata": {},
   "outputs": [],
   "source": [
    "kaur = test_abstract()"
   ]
  },
  {
   "cell_type": "code",
   "execution_count": 4,
   "id": "098920d5-6be1-4178-97fe-beac1d84cfb5",
   "metadata": {},
   "outputs": [
    {
     "data": {
      "text/plain": [
       "'This will return the details of the student.'"
      ]
     },
     "execution_count": 4,
     "metadata": {},
     "output_type": "execute_result"
    }
   ],
   "source": [
    "kaur.student_details()"
   ]
  },
  {
   "cell_type": "markdown",
   "id": "f60d52c9-71fe-46a0-931f-0f1b8a37e0a0",
   "metadata": {},
   "source": [
    "Ans2"
   ]
  },
  {
   "cell_type": "markdown",
   "id": "18e899c2-99bb-4a56-8561-48ff6455b538",
   "metadata": {},
   "source": [
    "Abstraction is the process of hiding complex implementation details and \n",
    "exposing only the essential features or properties to the user. Abstraction\n",
    "focuses on defining what an object does, rather than how it does it. Abstraction\n",
    "can be achieved using abstract classes and interfaces.\n",
    "\n",
    "\n",
    "Encapsulation is the process of wrapping data and code into a single unit and\n",
    "hiding the internal details from the outside world. Encapsulation protects the\n",
    "internal state of an object from external interference and ensures that the\n",
    "object's behavior can only be accessed through its public interface. \n",
    "Encapsulation can be achieved using access modifiers such as public, \n",
    "private, and protected."
   ]
  },
  {
   "cell_type": "code",
   "execution_count": 19,
   "id": "1e9890f9-56b5-4583-91a6-9e99c90a72df",
   "metadata": {},
   "outputs": [],
   "source": [
    "# example\n",
    "class bank_acount:\n",
    "    def __init__(self , balance):\n",
    "        self.__balance = balance\n",
    "    \n",
    "    def deposite(self,amount):\n",
    "        self.__balance = self.__balance + amount\n",
    "      \n",
    "    def withdraw(self , amount):\n",
    "        if self.__balance >= amount :\n",
    "            self.__balance = self.__balance - amount\n",
    "            return True\n",
    "        else:\n",
    "            return False\n",
    "    def get_balance(self):\n",
    "        return self.__balance\n",
    "            "
   ]
  },
  {
   "cell_type": "code",
   "execution_count": 20,
   "id": "e2d0c068-e8da-4878-b84c-8977827fdc5c",
   "metadata": {},
   "outputs": [],
   "source": [
    "rai = bank_acount(5000)"
   ]
  },
  {
   "cell_type": "code",
   "execution_count": 21,
   "id": "3c7f8a5d-c8d4-4fa8-ab38-cf97ed26dcfa",
   "metadata": {},
   "outputs": [
    {
     "data": {
      "text/plain": [
       "5000"
      ]
     },
     "execution_count": 21,
     "metadata": {},
     "output_type": "execute_result"
    }
   ],
   "source": [
    "rai.get_balance()"
   ]
  },
  {
   "cell_type": "code",
   "execution_count": 22,
   "id": "8484e921-8bfb-4609-bf83-3ee4ab86bf3e",
   "metadata": {},
   "outputs": [],
   "source": [
    "rai.deposite(10000)"
   ]
  },
  {
   "cell_type": "code",
   "execution_count": 23,
   "id": "01764209-254a-4e2a-a153-f4bbff67a5e3",
   "metadata": {},
   "outputs": [
    {
     "data": {
      "text/plain": [
       "15000"
      ]
     },
     "execution_count": 23,
     "metadata": {},
     "output_type": "execute_result"
    }
   ],
   "source": [
    "rai.get_balance()"
   ]
  },
  {
   "cell_type": "code",
   "execution_count": 24,
   "id": "e2656e90-3648-45fd-8e3a-41f0fe23fa04",
   "metadata": {},
   "outputs": [
    {
     "data": {
      "text/plain": [
       "False"
      ]
     },
     "execution_count": 24,
     "metadata": {},
     "output_type": "execute_result"
    }
   ],
   "source": [
    "rai.withdraw(16000)"
   ]
  },
  {
   "cell_type": "code",
   "execution_count": 25,
   "id": "6e208888-ae93-4118-84c0-ff3f6bd6e530",
   "metadata": {},
   "outputs": [
    {
     "data": {
      "text/plain": [
       "True"
      ]
     },
     "execution_count": 25,
     "metadata": {},
     "output_type": "execute_result"
    }
   ],
   "source": [
    "rai.withdraw(14000)"
   ]
  },
  {
   "cell_type": "code",
   "execution_count": 26,
   "id": "e309d132-b321-468c-93f6-506ab6a1e194",
   "metadata": {},
   "outputs": [
    {
     "data": {
      "text/plain": [
       "1000"
      ]
     },
     "execution_count": 26,
     "metadata": {},
     "output_type": "execute_result"
    }
   ],
   "source": [
    "rai.get_balance()"
   ]
  },
  {
   "cell_type": "markdown",
   "id": "54469836-df5f-4c94-81c2-18fccb036d5e",
   "metadata": {},
   "source": [
    "In the above example, the BankAccount class represents a simple bank account \n",
    "with an account number and balance. The account_number property is public, \n",
    "which means it can be accessed from outside the class. The balance property \n",
    "is private, which means it can only be accessed from within the class using \n",
    "the deposit, withdraw, and get_balance methods.\n",
    "\n",
    "Here, we have used both encapsulation and abstraction. Encapsulation is used\n",
    "to protect the balance property from direct access from outside the class, and\n",
    "abstraction is used to expose only the essential methods such as deposit, \n",
    "withdraw, get_balance, and get_account_number to the user."
   ]
  },
  {
   "cell_type": "markdown",
   "id": "8236439e-686b-4318-92b8-6f03f31435a0",
   "metadata": {},
   "source": [
    "Ans3"
   ]
  },
  {
   "cell_type": "markdown",
   "id": "90758c48-d88c-4eb7-ba26-4533a39ddc51",
   "metadata": {},
   "source": [
    "The abc module in Python stands for \"Abstract Base Classes\" and is a module\n",
    "that provides infrastructure for defining abstract base classes (ABCs).\n",
    "An ABC is a class that cannot be instantiated on its own, but provides a \n",
    "basic structure and API for its subclasses.\n",
    "\n",
    "The abc module provides a way to define abstract methods and enforce the \n",
    "implementation of these methods by the subclasses. It is used to implement\n",
    "the concept of \"abstraction\" in object-oriented programming, which allows \n",
    "developers to create a simplified view of an object or system that is easy\n",
    "to understand and use."
   ]
  },
  {
   "cell_type": "markdown",
   "id": "cd412ca8-f3d2-4a99-aee6-7c53c38158f8",
   "metadata": {},
   "source": [
    "Ans4"
   ]
  },
  {
   "cell_type": "markdown",
   "id": "fd18b568-1140-49d7-a5cc-7ba74240eeca",
   "metadata": {},
   "source": [
    "Data abstraction is a technique in object-oriented programming that allows us\n",
    "to expose only the necessary and relevant details of an object and hide the \n",
    "rest of the details. The idea behind data abstraction is to focus on the \n",
    "essential features of an object, rather than the implementation details."
   ]
  },
  {
   "cell_type": "code",
   "execution_count": 27,
   "id": "0a940720-2b52-413c-9ebd-6bf867bc7fbb",
   "metadata": {},
   "outputs": [],
   "source": [
    "import abc\n",
    "class demo:\n",
    "    @abc.abstractmethod\n",
    "    def student_batch(self):\n",
    "        pass\n",
    "    \n",
    "    @abc.abstractmethod\n",
    "    def student_college(self):\n",
    "        pass\n",
    "    @abc.abstractmethod\n",
    "    def student_branch(self):\n",
    "        pass"
   ]
  },
  {
   "cell_type": "code",
   "execution_count": 28,
   "id": "e913c3bc-f822-4231-96fb-80155ca3121b",
   "metadata": {},
   "outputs": [],
   "source": [
    "class details(demo):\n",
    "    \n",
    "    def student_college(self):\n",
    "        return \"This method will give details of student college\"\n",
    "    \n",
    "    def student_batch(self):\n",
    "        return \"This will give info about details of batch of a student\"\n",
    "    \n",
    "    def student_branch(self):\n",
    "        return \"This will give details of branch of a student\""
   ]
  },
  {
   "cell_type": "code",
   "execution_count": 29,
   "id": "f18a447c-c916-4f49-ac89-e7863f053a47",
   "metadata": {},
   "outputs": [],
   "source": [
    "kaur = details()"
   ]
  },
  {
   "cell_type": "code",
   "execution_count": 30,
   "id": "0772c3ff-6ee3-4f14-b91d-5ac31d8d140f",
   "metadata": {},
   "outputs": [
    {
     "data": {
      "text/plain": [
       "'This will give info about details of batch of a student'"
      ]
     },
     "execution_count": 30,
     "metadata": {},
     "output_type": "execute_result"
    }
   ],
   "source": [
    "kaur.student_batch()"
   ]
  },
  {
   "cell_type": "markdown",
   "id": "6554f77c-8b2b-430a-b5ce-cec4d17338e9",
   "metadata": {},
   "source": [
    "Ans5"
   ]
  },
  {
   "cell_type": "markdown",
   "id": "8c72f42f-bcb2-41a8-aa57-b6e32dfd53df",
   "metadata": {},
   "source": [
    "No, we cannot create an instance of an abstract class in Python. \n",
    "An abstract class is a class that contains one or more abstract methods,\n",
    "which are methods that have no implementation in the abstract class and \n",
    "must be implemented by the subclasses. An abstract class is used as a \n",
    "blueprint for creating concrete classes that implement the abstract methods."
   ]
  },
  {
   "cell_type": "code",
   "execution_count": 32,
   "id": "2fbf9099-7214-44e2-92ec-c7cd21c0efe4",
   "metadata": {},
   "outputs": [
    {
     "name": "stdout",
     "output_type": "stream",
     "text": [
      "Woof!\n"
     ]
    }
   ],
   "source": [
    "from abc import ABC, abstractmethod\n",
    "\n",
    "class Animal(ABC):\n",
    "    \n",
    "    @abstractmethod\n",
    "    def make_sound(self):\n",
    "        pass\n",
    "\n",
    "class Dog(Animal):\n",
    "    \n",
    "    def make_sound(self):\n",
    "        print(\"Woof!\")\n",
    "\n",
    "d = Dog()\n",
    "d.make_sound()  # Output: Woof!\n"
   ]
  },
  {
   "cell_type": "markdown",
   "id": "0d18fc23-d2b5-4558-b24a-f9ff4ffed5f9",
   "metadata": {},
   "source": [
    "In this example, Animal is an abstract class that defines an abstract method \n",
    "called make_sound. The Dog class is a concrete subclass of Animal that provides\n",
    "its own implementation of the make_sound method. We can create an instance of \n",
    "Dog and call its make_sound method."
   ]
  },
  {
   "cell_type": "markdown",
   "id": "45d9b41f-3ef9-4161-b4f3-dd620b31c880",
   "metadata": {},
   "source": [
    "However, if we try to create an instance of the Animal class, we will get a \n",
    "TypeError:"
   ]
  },
  {
   "cell_type": "code",
   "execution_count": 34,
   "id": "202a059c-5ab4-4626-bc1d-a08adbb9f457",
   "metadata": {},
   "outputs": [
    {
     "ename": "TypeError",
     "evalue": "Can't instantiate abstract class Animal with abstract method make_sound",
     "output_type": "error",
     "traceback": [
      "\u001b[0;31m---------------------------------------------------------------------------\u001b[0m",
      "\u001b[0;31mTypeError\u001b[0m                                 Traceback (most recent call last)",
      "Cell \u001b[0;32mIn[34], line 1\u001b[0m\n\u001b[0;32m----> 1\u001b[0m a \u001b[38;5;241m=\u001b[39m \u001b[43mAnimal\u001b[49m\u001b[43m(\u001b[49m\u001b[43m)\u001b[49m\n\u001b[1;32m      2\u001b[0m \u001b[38;5;66;03m# Output: TypeError: Can't instantiate abstract class Animal with abstract methods make_sound\u001b[39;00m\n",
      "\u001b[0;31mTypeError\u001b[0m: Can't instantiate abstract class Animal with abstract method make_sound"
     ]
    }
   ],
   "source": [
    "a = Animal()\n",
    "# Output: TypeError: Can't instantiate abstract class Animal with abstract methods make_sound\n"
   ]
  },
  {
   "cell_type": "code",
   "execution_count": null,
   "id": "ee33dfb1-bc5f-44e9-80c7-64ca0088b703",
   "metadata": {},
   "outputs": [],
   "source": []
  }
 ],
 "metadata": {
  "kernelspec": {
   "display_name": "Python 3 (ipykernel)",
   "language": "python",
   "name": "python3"
  },
  "language_info": {
   "codemirror_mode": {
    "name": "ipython",
    "version": 3
   },
   "file_extension": ".py",
   "mimetype": "text/x-python",
   "name": "python",
   "nbconvert_exporter": "python",
   "pygments_lexer": "ipython3",
   "version": "3.10.8"
  }
 },
 "nbformat": 4,
 "nbformat_minor": 5
}
