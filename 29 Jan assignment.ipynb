{
 "cells": [
  {
   "cell_type": "code",
   "execution_count": null,
   "id": "10fc0375-48d0-4af7-8a38-4bcbfcc65491",
   "metadata": {},
   "outputs": [],
   "source": [
    "Ans1-Guido van Rossum developed python programming language."
   ]
  },
  {
   "cell_type": "code",
   "execution_count": null,
   "id": "00dd946f-7e12-440a-a8d1-87cdc603662f",
   "metadata": {},
   "outputs": [],
   "source": [
    "Ans2-Python is an interpreted programming language, supporting object-oriented, structured, and functional programming"
   ]
  },
  {
   "cell_type": "code",
   "execution_count": null,
   "id": "6baa912e-60fa-40db-8e48-e8fec18a64c7",
   "metadata": {},
   "outputs": [],
   "source": [
    "Ans3-Yes, Python is a case−sensitive programming language. This means that it considers uppercase and lowercase letters differently"
   ]
  },
  {
   "cell_type": "code",
   "execution_count": null,
   "id": "654e0d13-d391-4241-a033-6a2b4f614cc3",
   "metadata": {},
   "outputs": [],
   "source": [
    "Ans4-file name.pyc"
   ]
  },
  {
   "cell_type": "code",
   "execution_count": null,
   "id": "ab469ab8-8f97-4b5f-a47b-eb859900d47f",
   "metadata": {},
   "outputs": [],
   "source": [
    "Ans5-Python is an interpreted language."
   ]
  },
  {
   "cell_type": "code",
   "execution_count": null,
   "id": "2cc3e3fc-bde1-411b-a336-6b5f4ba3500b",
   "metadata": {},
   "outputs": [],
   "source": [
    "Ans6- A module, a function body, and a class definition. "
   ]
  },
  {
   "cell_type": "code",
   "execution_count": null,
   "id": "2b5d89c2-ffca-40ba-ae14-50efabcb5bc1",
   "metadata": {},
   "outputs": [],
   "source": [
    "Ans7- # character"
   ]
  },
  {
   "cell_type": "code",
   "execution_count": null,
   "id": "1ebf0574-628d-4cb5-a9e8-3b20be618f06",
   "metadata": {},
   "outputs": [],
   "source": [
    "Ans8-The function sys. version can help us to find the version of python that we are currently working on."
   ]
  },
  {
   "cell_type": "code",
   "execution_count": null,
   "id": "354dcca1-22e6-45bf-b0c3-9e208150fc4a",
   "metadata": {},
   "outputs": [],
   "source": [
    "Ans9-Python supports the creation of anonymous functions (i.e. functions that are not bound to a name) at runtime, using a construct called lambda."
   ]
  },
  {
   "cell_type": "code",
   "execution_count": null,
   "id": "55a4eb28-9579-4770-9d48-a9375b2152eb",
   "metadata": {},
   "outputs": [],
   "source": [
    "Ans10-pip Install Packages"
   ]
  },
  {
   "cell_type": "code",
   "execution_count": null,
   "id": "c5c308d3-9e1b-48ae-9f7b-a68124893c6b",
   "metadata": {},
   "outputs": [],
   "source": [
    "Ans11-int(), str(),len() and many more."
   ]
  },
  {
   "cell_type": "code",
   "execution_count": null,
   "id": "d2a773da-d44b-4bfb-99da-ca485b596389",
   "metadata": {},
   "outputs": [],
   "source": [
    "Ans12-An identifier can have a maximum length of 79 characters in Python."
   ]
  },
  {
   "cell_type": "code",
   "execution_count": null,
   "id": "ea768eba-3c48-4da9-8ee2-b8d2a91b51f4",
   "metadata": {},
   "outputs": [],
   "source": [
    "Ans13-It is simple to use and easy to understand.It is used in many domains such as web development, Data Science and many more."
   ]
  },
  {
   "cell_type": "code",
   "execution_count": null,
   "id": "bc704245-e8ee-40c7-9d8a-98e31c7c52b9",
   "metadata": {},
   "outputs": [],
   "source": [
    "Ans14- The management of this private heap is ensured internally by the Python memory manager."
   ]
  },
  {
   "cell_type": "code",
   "execution_count": null,
   "id": "8df2dd39-023a-4b94-a2fe-df7bf1151113",
   "metadata": {},
   "outputs": [],
   "source": [
    "Ans15- 1- Right-clicking This PC and going to Properties.\n",
    "\n",
    "2- Clicking on the Advanced system settings in the menu on the left.\n",
    "\n",
    "3- Clicking on the Environment Variables button o​n the bottom right.\n",
    "\n",
    "4- In the System variables section, selecting the Path variable and clicking on Edit. The next screen will show all the directories that are currently a part of the PATH variable.\n",
    "\n",
    "5- Clicking on New and entering Python’s install directory."
   ]
  },
  {
   "cell_type": "code",
   "execution_count": null,
   "id": "0da960ab-e3ad-471e-8c90-f4754770844c",
   "metadata": {},
   "outputs": [],
   "source": [
    "Ans16- yes indentation is required in python."
   ]
  },
  {
   "cell_type": "code",
   "execution_count": null,
   "id": "888a0b0d-e5da-4889-a0ca-df2b8f0cd793",
   "metadata": {},
   "outputs": [],
   "source": []
  },
  {
   "cell_type": "code",
   "execution_count": null,
   "id": "b5f2b064-4233-4cd5-b648-b3aae65a836b",
   "metadata": {},
   "outputs": [],
   "source": []
  },
  {
   "cell_type": "code",
   "execution_count": null,
   "id": "bb3136ee-8076-4596-9715-81ba8e9b7543",
   "metadata": {},
   "outputs": [],
   "source": []
  },
  {
   "cell_type": "code",
   "execution_count": null,
   "id": "e7193c82-1be6-4334-a751-74a1fba84b86",
   "metadata": {},
   "outputs": [],
   "source": []
  },
  {
   "cell_type": "code",
   "execution_count": null,
   "id": "e160264c-8320-4db1-80a3-e3bbef80dcc2",
   "metadata": {},
   "outputs": [],
   "source": []
  },
  {
   "cell_type": "code",
   "execution_count": null,
   "id": "82c606d1-6cdd-4b0c-9983-0f07420e2381",
   "metadata": {},
   "outputs": [],
   "source": []
  },
  {
   "cell_type": "code",
   "execution_count": null,
   "id": "5fb2922c-4213-4bf6-a683-7ab9feb39736",
   "metadata": {},
   "outputs": [],
   "source": []
  },
  {
   "cell_type": "code",
   "execution_count": null,
   "id": "611c39db-8385-4dfb-9236-f55203cbd354",
   "metadata": {},
   "outputs": [],
   "source": []
  },
  {
   "cell_type": "code",
   "execution_count": null,
   "id": "b242ba89-a239-47ba-9ea5-7d25343c159c",
   "metadata": {},
   "outputs": [],
   "source": []
  },
  {
   "cell_type": "code",
   "execution_count": null,
   "id": "fe9cdd98-0c15-449a-b2bb-c1be2837a2ea",
   "metadata": {},
   "outputs": [],
   "source": []
  }
 ],
 "metadata": {
  "kernelspec": {
   "display_name": "Python 3 (ipykernel)",
   "language": "python",
   "name": "python3"
  },
  "language_info": {
   "codemirror_mode": {
    "name": "ipython",
    "version": 3
   },
   "file_extension": ".py",
   "mimetype": "text/x-python",
   "name": "python",
   "nbconvert_exporter": "python",
   "pygments_lexer": "ipython3",
   "version": "3.10.8"
  }
 },
 "nbformat": 4,
 "nbformat_minor": 5
}
