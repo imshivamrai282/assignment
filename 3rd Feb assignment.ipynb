{
 "cells": [
  {
   "cell_type": "markdown",
   "id": "f0bcc9df-39ff-4b46-8f45-b0ad5b217e4b",
   "metadata": {},
   "source": [
    "Ans1"
   ]
  },
  {
   "cell_type": "code",
   "execution_count": 1,
   "id": "12c4d879-f077-4ba4-b65f-4396255253ae",
   "metadata": {},
   "outputs": [
    {
     "data": {
      "text/plain": [
       "range(1, 26)"
      ]
     },
     "execution_count": 1,
     "metadata": {},
     "output_type": "execute_result"
    }
   ],
   "source": [
    "range(1,26)"
   ]
  },
  {
   "cell_type": "code",
   "execution_count": 3,
   "id": "140b1966-47d5-4aec-abba-84da50dee9aa",
   "metadata": {},
   "outputs": [],
   "source": [
    "r = list(range(1,26))"
   ]
  },
  {
   "cell_type": "code",
   "execution_count": 4,
   "id": "2a46492a-9650-4cef-b9ad-de757e4a30de",
   "metadata": {},
   "outputs": [],
   "source": [
    "def test(r):\n",
    "    l = []\n",
    "    for i in r:\n",
    "        if i % 2 != 0:\n",
    "            l.append(i)\n",
    "    return l        \n",
    "    "
   ]
  },
  {
   "cell_type": "code",
   "execution_count": 5,
   "id": "99f1dab0-a3a2-48ba-8858-edee3a301a1a",
   "metadata": {},
   "outputs": [
    {
     "data": {
      "text/plain": [
       "[1, 3, 5, 7, 9, 11, 13, 15, 17, 19, 21, 23, 25]"
      ]
     },
     "execution_count": 5,
     "metadata": {},
     "output_type": "execute_result"
    }
   ],
   "source": [
    "test(r)"
   ]
  },
  {
   "cell_type": "code",
   "execution_count": 6,
   "id": "182f82df-8835-4b50-a328-9387a66bca3f",
   "metadata": {},
   "outputs": [],
   "source": [
    "## 'def' keyword is used to create a functtion."
   ]
  },
  {
   "cell_type": "markdown",
   "id": "f8b6cc1c-347a-43c9-b569-84080b2b82e9",
   "metadata": {},
   "source": [
    "Ans2"
   ]
  },
  {
   "cell_type": "markdown",
   "id": "22275859-6687-497d-9638-eca3ba40100c",
   "metadata": {},
   "source": [
    "*args is used to pass a variable number of positional arguments to a function. The * operator\n",
    "is used to unpack the iterable passed to it, so when used as a function parameter, it will take\n",
    "all the arguments passed to the function as a tuple.For example--"
   ]
  },
  {
   "cell_type": "code",
   "execution_count": 7,
   "id": "e4208bca-d5b4-4ef4-8b79-8c67800b3632",
   "metadata": {},
   "outputs": [],
   "source": [
    "def test1(*args):\n",
    "    return args"
   ]
  },
  {
   "cell_type": "code",
   "execution_count": 8,
   "id": "cdf1a884-4236-47f7-8a4b-3116280c9977",
   "metadata": {},
   "outputs": [
    {
     "data": {
      "text/plain": [
       "(1, 2, 3, 4, 5, 6, 76)"
      ]
     },
     "execution_count": 8,
     "metadata": {},
     "output_type": "execute_result"
    }
   ],
   "source": [
    "test1(1,2,3,4,5,6,76,)"
   ]
  },
  {
   "cell_type": "markdown",
   "id": "00ee9062-35ec-4ff1-9523-5784bdc1f176",
   "metadata": {},
   "source": [
    "**kwargs is used to pass a variable number of keyword arguments to a function. The ** operator\n",
    "is used to unpack the dictionary passed to it, so when used as a function parameter, it will\n",
    "take all the keyword arguments passed to the function as a dictionary.For example"
   ]
  },
  {
   "cell_type": "code",
   "execution_count": 9,
   "id": "1eacb29c-3daf-4533-8f8d-93a34a8c075e",
   "metadata": {},
   "outputs": [],
   "source": [
    "def test2(**kwargs):\n",
    "    return kwargs"
   ]
  },
  {
   "cell_type": "code",
   "execution_count": 10,
   "id": "c98b88a0-3e53-43b6-8329-976c218c7d67",
   "metadata": {},
   "outputs": [
    {
     "data": {
      "text/plain": [
       "{'a': 1,\n",
       " 'b': [1, 2, 3, 4, 5, 4],\n",
       " 'c': {3, 4, 5, 6, 67},\n",
       " 'd': (2, 3, 4, 56, 55)}"
      ]
     },
     "execution_count": 10,
     "metadata": {},
     "output_type": "execute_result"
    }
   ],
   "source": [
    "test2(a = 1, b = [1,2,3,4,5,4], c  = {3,4,5,6,67}, d = (2,3,4,56,55))"
   ]
  },
  {
   "cell_type": "markdown",
   "id": "b071a98d-b7fb-4765-8813-52ecb48af331",
   "metadata": {},
   "source": [
    "Ans3"
   ]
  },
  {
   "cell_type": "markdown",
   "id": "95d8b815-3a6d-4d54-acc5-8bf3974ae2d0",
   "metadata": {},
   "source": [
    "In Python, an iterator is an object that provides a sequence of values, one at a time, when \n",
    "iterated using a loop or any other iteration method. An iterator is an object that implements \n",
    "the iterator protocol, which consists of the __iter__() and __next__() methods."
   ]
  },
  {
   "cell_type": "code",
   "execution_count": 31,
   "id": "75c390f9-245f-4db8-aff2-85578bfc1832",
   "metadata": {},
   "outputs": [],
   "source": [
    "l = [2, 4, 6, 8, 10, 12, 14,16, 18, 20]"
   ]
  },
  {
   "cell_type": "code",
   "execution_count": 32,
   "id": "69c27a12-dd6b-4539-8b8e-91b2609f57f5",
   "metadata": {},
   "outputs": [
    {
     "ename": "TypeError",
     "evalue": "'list' object is not an iterator",
     "output_type": "error",
     "traceback": [
      "\u001b[0;31m---------------------------------------------------------------------------\u001b[0m",
      "\u001b[0;31mTypeError\u001b[0m                                 Traceback (most recent call last)",
      "Cell \u001b[0;32mIn[32], line 1\u001b[0m\n\u001b[0;32m----> 1\u001b[0m \u001b[38;5;28;43mnext\u001b[39;49m\u001b[43m(\u001b[49m\u001b[43ml\u001b[49m\u001b[43m)\u001b[49m\n",
      "\u001b[0;31mTypeError\u001b[0m: 'list' object is not an iterator"
     ]
    }
   ],
   "source": [
    "next(l)"
   ]
  },
  {
   "cell_type": "code",
   "execution_count": 33,
   "id": "46f95b4e-ab27-419f-a745-765f3026aec3",
   "metadata": {},
   "outputs": [],
   "source": [
    "l1 = iter(l)"
   ]
  },
  {
   "cell_type": "code",
   "execution_count": 34,
   "id": "cdb9f5f3-69a9-4a07-89eb-3b837ae8d191",
   "metadata": {},
   "outputs": [
    {
     "name": "stdout",
     "output_type": "stream",
     "text": [
      "2\n",
      "4\n",
      "6\n",
      "8\n",
      "10\n"
     ]
    }
   ],
   "source": [
    "for i in range(5):\n",
    "    print(next(l1))"
   ]
  },
  {
   "cell_type": "markdown",
   "id": "8e0f61a5-9e40-467a-bc82-5bd28fcda91a",
   "metadata": {},
   "source": [
    "Ans4"
   ]
  },
  {
   "cell_type": "markdown",
   "id": "bef0809e-06c3-4696-bdea-9ce86afd3e10",
   "metadata": {},
   "source": [
    "A generator function in Python is a special type of function that allows you to \n",
    "define an iterator without having to create a class that implements the iterator\n",
    "protocol. The yield keyword is used to produce a value from the generator \n",
    "function and suspend its execution state."
   ]
  },
  {
   "cell_type": "code",
   "execution_count": 38,
   "id": "eebce1e9-e930-41c0-98c9-27f07c124098",
   "metadata": {},
   "outputs": [],
   "source": [
    "def count_num(n):\n",
    "    count = 1\n",
    "    while count <= n:\n",
    "        yield count\n",
    "        count = count + 1"
   ]
  },
  {
   "cell_type": "code",
   "execution_count": 39,
   "id": "883eac5f-12d1-45a7-a2e8-5ba3ffb42c1c",
   "metadata": {},
   "outputs": [],
   "source": [
    "c = count_num(5)"
   ]
  },
  {
   "cell_type": "code",
   "execution_count": 40,
   "id": "5689a81b-fc30-41c7-8d41-decd15007903",
   "metadata": {},
   "outputs": [
    {
     "name": "stdout",
     "output_type": "stream",
     "text": [
      "1\n",
      "2\n",
      "3\n",
      "4\n",
      "5\n"
     ]
    }
   ],
   "source": [
    "for i in c:\n",
    "    print(i)"
   ]
  },
  {
   "cell_type": "markdown",
   "id": "430eb657-839c-4ec8-b958-8b874f876266",
   "metadata": {},
   "source": [
    "Ans5"
   ]
  },
  {
   "cell_type": "code",
   "execution_count": 68,
   "id": "823f5c4d-d761-4da2-9f7e-f8c50df1dfec",
   "metadata": {},
   "outputs": [],
   "source": [
    "num = list(range(1000))"
   ]
  },
  {
   "cell_type": "code",
   "execution_count": 75,
   "id": "f71d6fb8-db4d-47ca-ac18-84bf2a787330",
   "metadata": {},
   "outputs": [],
   "source": [
    "def num_prime(num):\n",
    "    p = []\n",
    "    for i in num:\n",
    "        if num % i == 0:\n",
    "            p.append(i)\n",
    "            yield p\n",
    "            "
   ]
  },
  {
   "cell_type": "code",
   "execution_count": 76,
   "id": "a027b60e-75a6-4659-9884-83d499c24394",
   "metadata": {},
   "outputs": [
    {
     "data": {
      "text/plain": [
       "<generator object num_prime at 0x7ff7aa6c6260>"
      ]
     },
     "execution_count": 76,
     "metadata": {},
     "output_type": "execute_result"
    }
   ],
   "source": [
    "num_prime(num)"
   ]
  },
  {
   "cell_type": "code",
   "execution_count": 77,
   "id": "489340d7-3819-468d-8094-ae0708f7891b",
   "metadata": {},
   "outputs": [
    {
     "ename": "TypeError",
     "evalue": "unsupported operand type(s) for %: 'list' and 'int'",
     "output_type": "error",
     "traceback": [
      "\u001b[0;31m---------------------------------------------------------------------------\u001b[0m",
      "\u001b[0;31mTypeError\u001b[0m                                 Traceback (most recent call last)",
      "Cell \u001b[0;32mIn[77], line 1\u001b[0m\n\u001b[0;32m----> 1\u001b[0m \u001b[38;5;28;01mfor\u001b[39;00m i \u001b[38;5;129;01min\u001b[39;00m num_prime(num):\n\u001b[1;32m      2\u001b[0m     \u001b[38;5;28mprint\u001b[39m(i)\n",
      "Cell \u001b[0;32mIn[75], line 4\u001b[0m, in \u001b[0;36mnum_prime\u001b[0;34m(num)\u001b[0m\n\u001b[1;32m      2\u001b[0m p \u001b[38;5;241m=\u001b[39m []\n\u001b[1;32m      3\u001b[0m \u001b[38;5;28;01mfor\u001b[39;00m i \u001b[38;5;129;01min\u001b[39;00m num:\n\u001b[0;32m----> 4\u001b[0m     \u001b[38;5;28;01mif\u001b[39;00m \u001b[43mnum\u001b[49m\u001b[43m \u001b[49m\u001b[38;5;241;43m%\u001b[39;49m\u001b[43m \u001b[49m\u001b[43mi\u001b[49m \u001b[38;5;241m==\u001b[39m \u001b[38;5;241m0\u001b[39m:\n\u001b[1;32m      5\u001b[0m         p\u001b[38;5;241m.\u001b[39mappend(i)\n\u001b[1;32m      6\u001b[0m         \u001b[38;5;28;01myield\u001b[39;00m p\n",
      "\u001b[0;31mTypeError\u001b[0m: unsupported operand type(s) for %: 'list' and 'int'"
     ]
    }
   ],
   "source": [
    "for i in num_prime(num):\n",
    "    print(i)"
   ]
  },
  {
   "cell_type": "markdown",
   "id": "61247627-33b9-44ad-9249-858f58ca7909",
   "metadata": {},
   "source": [
    "I am not able to solve it, please provide me with the solution."
   ]
  },
  {
   "cell_type": "markdown",
   "id": "c207d201-5f06-47ac-8e2f-031863338dd7",
   "metadata": {},
   "source": [
    "Ans6"
   ]
  },
  {
   "cell_type": "code",
   "execution_count": 84,
   "id": "7a51f6f7-b8fe-4727-a449-81dedb96174f",
   "metadata": {},
   "outputs": [],
   "source": [
    "def test_fib(n):\n",
    "    a , b = 0,1\n",
    "    while True:\n",
    "        yield a\n",
    "        a,b = b,a+b"
   ]
  },
  {
   "cell_type": "code",
   "execution_count": 87,
   "id": "2a5bb141-e4f6-47b6-b74c-cf68c5e6389e",
   "metadata": {},
   "outputs": [],
   "source": [
    "fib = test_fib(10)"
   ]
  },
  {
   "cell_type": "code",
   "execution_count": 88,
   "id": "0bcefaa2-22df-471b-b18f-774c9a0de67f",
   "metadata": {},
   "outputs": [
    {
     "name": "stdout",
     "output_type": "stream",
     "text": [
      "0\n",
      "1\n",
      "1\n",
      "2\n",
      "3\n",
      "5\n",
      "8\n",
      "13\n",
      "21\n",
      "34\n"
     ]
    }
   ],
   "source": [
    "for i in range(10):\n",
    "    print(next(fib))"
   ]
  },
  {
   "cell_type": "markdown",
   "id": "db2dc9f5-5aac-47eb-8e7a-9e38ae442ef2",
   "metadata": {},
   "source": [
    "Ans7"
   ]
  },
  {
   "cell_type": "code",
   "execution_count": 91,
   "id": "e28b2787-30ad-4774-a5ea-7673de40888d",
   "metadata": {},
   "outputs": [
    {
     "data": {
      "text/plain": [
       "['p', 'w', 's', 'k', 'i', 'l', 'l', 's']"
      ]
     },
     "execution_count": 91,
     "metadata": {},
     "output_type": "execute_result"
    }
   ],
   "source": [
    "s = 'pwskills'\n",
    "[i.lower() for i in s]\n"
   ]
  },
  {
   "cell_type": "markdown",
   "id": "76aeeb20-d521-409b-836e-8751170b5a1a",
   "metadata": {},
   "source": [
    "Ans8 I have doubt in this question, not able to solve it."
   ]
  },
  {
   "cell_type": "markdown",
   "id": "5885b2f4-a6a4-4377-a207-ccb9cc1f6c60",
   "metadata": {},
   "source": [
    "Ans9"
   ]
  },
  {
   "cell_type": "code",
   "execution_count": 93,
   "id": "d3b5499f-6935-4a56-94d4-e9c30b244ba0",
   "metadata": {},
   "outputs": [],
   "source": [
    "o = list(range(1,101))"
   ]
  },
  {
   "cell_type": "code",
   "execution_count": 94,
   "id": "978b183e-8487-4133-9960-666fc2b0c7b0",
   "metadata": {},
   "outputs": [
    {
     "data": {
      "text/plain": [
       "[1,\n",
       " 3,\n",
       " 5,\n",
       " 7,\n",
       " 9,\n",
       " 11,\n",
       " 13,\n",
       " 15,\n",
       " 17,\n",
       " 19,\n",
       " 21,\n",
       " 23,\n",
       " 25,\n",
       " 27,\n",
       " 29,\n",
       " 31,\n",
       " 33,\n",
       " 35,\n",
       " 37,\n",
       " 39,\n",
       " 41,\n",
       " 43,\n",
       " 45,\n",
       " 47,\n",
       " 49,\n",
       " 51,\n",
       " 53,\n",
       " 55,\n",
       " 57,\n",
       " 59,\n",
       " 61,\n",
       " 63,\n",
       " 65,\n",
       " 67,\n",
       " 69,\n",
       " 71,\n",
       " 73,\n",
       " 75,\n",
       " 77,\n",
       " 79,\n",
       " 81,\n",
       " 83,\n",
       " 85,\n",
       " 87,\n",
       " 89,\n",
       " 91,\n",
       " 93,\n",
       " 95,\n",
       " 97,\n",
       " 99]"
      ]
     },
     "execution_count": 94,
     "metadata": {},
     "output_type": "execute_result"
    }
   ],
   "source": [
    "[i for i in o if i % 2 != 0]"
   ]
  },
  {
   "cell_type": "code",
   "execution_count": null,
   "id": "8cfa98ab-0de0-4a5f-865e-2de4aa5df79a",
   "metadata": {},
   "outputs": [],
   "source": []
  }
 ],
 "metadata": {
  "kernelspec": {
   "display_name": "Python 3 (ipykernel)",
   "language": "python",
   "name": "python3"
  },
  "language_info": {
   "codemirror_mode": {
    "name": "ipython",
    "version": 3
   },
   "file_extension": ".py",
   "mimetype": "text/x-python",
   "name": "python",
   "nbconvert_exporter": "python",
   "pygments_lexer": "ipython3",
   "version": "3.10.8"
  }
 },
 "nbformat": 4,
 "nbformat_minor": 5
}
