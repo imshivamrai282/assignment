{
 "cells": [
  {
   "cell_type": "markdown",
   "id": "e2a8e454-4511-41ce-bc60-50a676925ece",
   "metadata": {},
   "source": [
    "Ans1"
   ]
  },
  {
   "cell_type": "code",
   "execution_count": 11,
   "id": "141f5f65-a55b-49a9-881b-6faba2d9c0ab",
   "metadata": {},
   "outputs": [],
   "source": [
    "class vehicle:\n",
    "    def __init__(self,name_of_vehicle,max_speed,average_of_vehicle):\n",
    "        self.name_of_vehicle = name_of_vehicle\n",
    "        self.max_speed = max_speed\n",
    "        self.average_of_vehicle = average_of_vehicle"
   ]
  },
  {
   "cell_type": "markdown",
   "id": "b1e6ca90-1449-4f60-98ea-aab95487d6cc",
   "metadata": {},
   "source": [
    "Ans2"
   ]
  },
  {
   "cell_type": "code",
   "execution_count": 21,
   "id": "942e504c-5dee-4bdd-ba0b-3b6d0be3e049",
   "metadata": {},
   "outputs": [],
   "source": [
    "class child_car(vehicle):\n",
    "    def seating_capacity(self,capacity):\n",
    "        self.capacity = capacity\n",
    "        return self.name_of_vehicle , self.seating_capacity"
   ]
  },
  {
   "cell_type": "code",
   "execution_count": 22,
   "id": "d0a37ff1-78e9-4dc6-82de-f2f2d960a407",
   "metadata": {},
   "outputs": [],
   "source": [
    "rai = child_car(\"BMW\", 100 , 4)"
   ]
  },
  {
   "cell_type": "markdown",
   "id": "dcf3c276-c1fe-4d05-a7bd-8c9b76252168",
   "metadata": {},
   "source": [
    "Ans3"
   ]
  },
  {
   "cell_type": "markdown",
   "id": "50f52d96-1663-46ac-9342-8caefee54cae",
   "metadata": {},
   "source": [
    "Multiple inheritance is a feature in object-oriented programming where a class \n",
    "can inherit properties and behavior from more than one parent class.\n",
    "\n",
    "Here's an example of how to use multiple inheritance in Python:"
   ]
  },
  {
   "cell_type": "code",
   "execution_count": 26,
   "id": "9d2844c9-588e-46f0-adce-71e86ac6aeec",
   "metadata": {},
   "outputs": [],
   "source": [
    "class class1:\n",
    "    def test_class1(self):\n",
    "        return \"This is class one\""
   ]
  },
  {
   "cell_type": "code",
   "execution_count": 27,
   "id": "e79759cd-21a7-41d3-827d-30e308e49348",
   "metadata": {},
   "outputs": [],
   "source": [
    "class class2:\n",
    "    def test_class2(self):\n",
    "        return \"This is class second\""
   ]
  },
  {
   "cell_type": "code",
   "execution_count": 31,
   "id": "e6b83772-5204-4fd0-ae2c-47ff2819c532",
   "metadata": {},
   "outputs": [],
   "source": [
    "class class3(class1 , class2):\n",
    "    \n",
    "    pass"
   ]
  },
  {
   "cell_type": "code",
   "execution_count": 32,
   "id": "a76c7086-d009-4a89-8ee4-568e4400543d",
   "metadata": {},
   "outputs": [],
   "source": [
    "rai = class3()"
   ]
  },
  {
   "cell_type": "code",
   "execution_count": 33,
   "id": "85184e79-0e0f-40a8-89f9-29ba89c86c39",
   "metadata": {},
   "outputs": [
    {
     "data": {
      "text/plain": [
       "'This is class one'"
      ]
     },
     "execution_count": 33,
     "metadata": {},
     "output_type": "execute_result"
    }
   ],
   "source": [
    "rai.test_class1()"
   ]
  },
  {
   "cell_type": "code",
   "execution_count": 34,
   "id": "afcb2523-093b-44fa-875d-d3fd16885a42",
   "metadata": {},
   "outputs": [
    {
     "data": {
      "text/plain": [
       "'This is class second'"
      ]
     },
     "execution_count": 34,
     "metadata": {},
     "output_type": "execute_result"
    }
   ],
   "source": [
    "rai.test_class2()"
   ]
  },
  {
   "cell_type": "markdown",
   "id": "f0140af4-0dde-4917-948a-d893a3c783b3",
   "metadata": {},
   "source": [
    "Ans4"
   ]
  },
  {
   "cell_type": "markdown",
   "id": "25869bd2-2e52-4a08-9628-7b2710c39db3",
   "metadata": {},
   "source": [
    "In Python, getter and setter methods are used to access and modify private \n",
    "attributes of a class. Private attributes are those that are denoted with \n",
    "a double underscore (e.g. __attribute). These attributes cannot be accessed\n",
    "or modified directly outside the class, but can be accessed or modified using \n",
    "getter and setter methods.\n",
    "\n",
    "A getter method is a method that retrieves the value of a private attribute,\n",
    "while a setter method is a method that sets the value of a private attribute.\n",
    "\n",
    "Here's an example of a class with a private attribute and getter and setter \n",
    "methods:"
   ]
  },
  {
   "cell_type": "code",
   "execution_count": 35,
   "id": "a793d1e9-ccef-49f5-b68a-820e532070c4",
   "metadata": {},
   "outputs": [],
   "source": [
    "# Example\n",
    "class person:\n",
    "    def __init__(self,name):\n",
    "        self.__name = name\n",
    "    def get_name(self):\n",
    "        return self.__name\n",
    "    def set_name(self,name):\n",
    "        self.__name = name"
   ]
  },
  {
   "cell_type": "code",
   "execution_count": 38,
   "id": "b0f2c17a-3902-4b7f-bfe6-273c86571df3",
   "metadata": {},
   "outputs": [],
   "source": [
    "rai = person('ab')"
   ]
  },
  {
   "cell_type": "code",
   "execution_count": 39,
   "id": "fd6f5aea-8703-454c-83d3-4aa59f33be63",
   "metadata": {},
   "outputs": [
    {
     "data": {
      "text/plain": [
       "'ab'"
      ]
     },
     "execution_count": 39,
     "metadata": {},
     "output_type": "execute_result"
    }
   ],
   "source": [
    "rai.get_name()"
   ]
  },
  {
   "cell_type": "code",
   "execution_count": 40,
   "id": "d61e7988-31d1-45b7-a2a2-302d0dffa2eb",
   "metadata": {},
   "outputs": [],
   "source": [
    "rai.set_name('kaur')"
   ]
  },
  {
   "cell_type": "code",
   "execution_count": 41,
   "id": "0dee6533-bd85-4ca1-86f4-6e8f8ed230b5",
   "metadata": {},
   "outputs": [
    {
     "data": {
      "text/plain": [
       "'kaur'"
      ]
     },
     "execution_count": 41,
     "metadata": {},
     "output_type": "execute_result"
    }
   ],
   "source": [
    "rai.get_name()"
   ]
  },
  {
   "cell_type": "markdown",
   "id": "8a9e197f-4203-4406-9a87-c598618c5d62",
   "metadata": {},
   "source": [
    "Ans5"
   ]
  },
  {
   "cell_type": "markdown",
   "id": "a08b0f9c-617e-43a3-ab09-b06aab2efd77",
   "metadata": {},
   "source": [
    "Method overriding in Python is a feature of object-oriented programming where a \n",
    "child class can provide its own implementation of a method that is already \n",
    "defined in its parent class.\n",
    "\n",
    "When a child class overrides a method from its parent class, it replaces the\n",
    "implementation of the parent method with its own implementation.\n",
    "\n",
    "Here's an example of how to use method overriding in Python:"
   ]
  },
  {
   "cell_type": "code",
   "execution_count": 42,
   "id": "e86c9fed-8787-4dc3-bfac-ade17b3ed35b",
   "metadata": {},
   "outputs": [
    {
     "name": "stdout",
     "output_type": "stream",
     "text": [
      "The animal makes a sound.\n",
      "The dog barks.\n",
      "The cat meows.\n"
     ]
    }
   ],
   "source": [
    "class Animal:\n",
    "    def make_sound(self):\n",
    "        print(\"The animal makes a sound.\")\n",
    "\n",
    "class Dog(Animal):\n",
    "    def make_sound(self):\n",
    "        print(\"The dog barks.\")\n",
    "\n",
    "class Cat(Animal):\n",
    "    def make_sound(self):\n",
    "        print(\"The cat meows.\")\n",
    "\n",
    "animal = Animal()\n",
    "dog = Dog()\n",
    "cat = Cat()\n",
    "\n",
    "animal.make_sound() \n",
    "dog.make_sound()  \n",
    "cat.make_sound()  \n"
   ]
  },
  {
   "cell_type": "markdown",
   "id": "acbfa1c1-463c-4d78-82a8-b39e751984be",
   "metadata": {},
   "source": [
    "In this example, we have three classes: Animal, Dog, and Cat. The Dog and Cat\n",
    "classes are child classes of the Animal class.\n",
    "\n",
    "Each class has its own implementation of the make_sound method. When we \n",
    "create an instance of the Animal class and call the make_sound method, it\n",
    "will use the implementation from the Animal class. When we create an instance\n",
    "of the Dog class and call the make_sound method, it will use the implementation \n",
    "from the Dog class, and when we create an instance of the Cat class and call\n",
    "the make_sound method, it will use the implementation from the Cat class."
   ]
  }
 ],
 "metadata": {
  "kernelspec": {
   "display_name": "Python 3 (ipykernel)",
   "language": "python",
   "name": "python3"
  },
  "language_info": {
   "codemirror_mode": {
    "name": "ipython",
    "version": 3
   },
   "file_extension": ".py",
   "mimetype": "text/x-python",
   "name": "python",
   "nbconvert_exporter": "python",
   "pygments_lexer": "ipython3",
   "version": "3.10.8"
  }
 },
 "nbformat": 4,
 "nbformat_minor": 5
}
