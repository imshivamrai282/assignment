{
 "cells": [
  {
   "cell_type": "markdown",
   "id": "0a68e08b-e0b2-40ef-b740-1169de753270",
   "metadata": {},
   "source": [
    "Ans1"
   ]
  },
  {
   "cell_type": "code",
   "execution_count": 5,
   "id": "08757a25-7d27-470f-998e-bda5d345900d",
   "metadata": {},
   "outputs": [
    {
     "name": "stdin",
     "output_type": "stream",
     "text": [
      "enter your marks here 70\n"
     ]
    },
    {
     "name": "stdout",
     "output_type": "stream",
     "text": [
      "your grade is C\n"
     ]
    }
   ],
   "source": [
    "marks = int(input(\"enter your marks here\"))\n",
    "if marks > 90:\n",
    "    print(\"your grade is A\")\n",
    "elif marks > 80 and marks <= 90:\n",
    "    print(\"your grade is B\")\n",
    "elif marks >= 60 and marks <= 80:\n",
    "    print(\"your grade is C\")\n",
    "else:\n",
    "    print(\"your grade is D\")"
   ]
  },
  {
   "cell_type": "markdown",
   "id": "c8b95a97-da65-4859-b4b8-a428d58e2143",
   "metadata": {},
   "source": [
    "Ans2"
   ]
  },
  {
   "cell_type": "code",
   "execution_count": 6,
   "id": "4a0c2018-79b6-4519-a4b3-ec7bad1f2d4d",
   "metadata": {},
   "outputs": [
    {
     "name": "stdin",
     "output_type": "stream",
     "text": [
      "enter the price here 10000\n"
     ]
    },
    {
     "name": "stdout",
     "output_type": "stream",
     "text": [
      "Tax is 5 %\n"
     ]
    }
   ],
   "source": [
    "price = int(input(\"enter the price here\"))\n",
    "if price > 100000:\n",
    "    print(\"Tax is 15 %\")\n",
    "elif price > 50000 and price <= 100000:\n",
    "    print(\"Tax is 10 %\")\n",
    "else:\n",
    "    print(\"Tax is 5 %\")"
   ]
  },
  {
   "cell_type": "markdown",
   "id": "66f4fd3d-f050-498a-9ad0-90e6458fbd0b",
   "metadata": {},
   "source": [
    "Ans3"
   ]
  },
  {
   "cell_type": "code",
   "execution_count": 7,
   "id": "7387f6a2-4e30-4acd-a638-389eae1418a9",
   "metadata": {},
   "outputs": [
    {
     "name": "stdin",
     "output_type": "stream",
     "text": [
      "enter the city whose monument you want to see Agara\n"
     ]
    },
    {
     "name": "stdout",
     "output_type": "stream",
     "text": [
      "Taj Mahal\n"
     ]
    }
   ],
   "source": [
    "city = input(\"enter the city whose monument you want to see\")\n",
    "if city == \"Delhi\":\n",
    "    print(\"Red Fort\")\n",
    "elif city == \"Agara\":\n",
    "    print(\"Taj Mahal\")\n",
    "elif city ==  \"Jaipur\":\n",
    "    print(\"Jal Mahal\")"
   ]
  },
  {
   "cell_type": "markdown",
   "id": "354d174c-e519-4d71-970b-b65661ef9358",
   "metadata": {},
   "source": [
    "Ans4"
   ]
  },
  {
   "cell_type": "code",
   "execution_count": 8,
   "id": "f470ac8f-98a3-4d07-ac2b-9a0d51fccbda",
   "metadata": {},
   "outputs": [
    {
     "name": "stdin",
     "output_type": "stream",
     "text": [
      "enter the numver here 243\n"
     ]
    },
    {
     "name": "stdout",
     "output_type": "stream",
     "text": [
      "9.0\n"
     ]
    }
   ],
   "source": [
    "n = int(input(\"enter the numver here\"))\n",
    "i = 0\n",
    "while n > 10:\n",
    "    n = n/3\n",
    "    i = i + 1\n",
    "print(n)    "
   ]
  },
  {
   "cell_type": "markdown",
   "id": "366e103a-8c13-4dd8-8cd6-eff53be8f12a",
   "metadata": {},
   "source": [
    "Ans5"
   ]
  },
  {
   "cell_type": "markdown",
   "id": "ca6ea81d-c070-4b18-b9fd-f86ae3288ccc",
   "metadata": {},
   "source": [
    "In Python, a while loop is used to repeatedly execute a block of code until a specific condition is met. \n",
    "It is used when the number of iterations required to execute the code is unknown beforehand.\n",
    "A while loop continues to execute the code until the condition specified in the loop header evaluates to False.\n",
    "\n",
    "The syntax of a while loop in Python is\n",
    "while condition:\n",
    "    code block"
   ]
  },
  {
   "cell_type": "code",
   "execution_count": 9,
   "id": "43a7fe21-d53b-4a56-b9ce-f39eff87a872",
   "metadata": {},
   "outputs": [
    {
     "name": "stdin",
     "output_type": "stream",
     "text": [
      "enter the number here 5\n"
     ]
    },
    {
     "data": {
      "text/plain": [
       "15"
      ]
     },
     "execution_count": 9,
     "metadata": {},
     "output_type": "execute_result"
    }
   ],
   "source": [
    "## Let us take an example that if we want the sum of numbers till some point using while loop we will use this code\n",
    "n = int(input(\"enter the number here\"))\n",
    "a = 0\n",
    "i = 1\n",
    "while i <= n:\n",
    "    a = a + i\n",
    "    i = i + 1\n",
    "a    "
   ]
  },
  {
   "cell_type": "markdown",
   "id": "11eeb0bc-eaa3-499a-ac05-94d82863e1b8",
   "metadata": {},
   "source": [
    "Ans6"
   ]
  },
  {
   "cell_type": "markdown",
   "id": "5aa8d221-e26e-4333-95be-7f791580289f",
   "metadata": {},
   "source": [
    "you have not taught the concept of nested while loop yet."
   ]
  },
  {
   "cell_type": "markdown",
   "id": "30b3557d-5428-4075-ab66-607b9b64167b",
   "metadata": {},
   "source": [
    "Ans7"
   ]
  },
  {
   "cell_type": "code",
   "execution_count": 10,
   "id": "35ba472f-b65f-4dc4-808e-4ca6b111eb19",
   "metadata": {},
   "outputs": [
    {
     "name": "stdout",
     "output_type": "stream",
     "text": [
      "10\n",
      "9\n",
      "8\n",
      "7\n",
      "6\n",
      "5\n",
      "4\n",
      "3\n",
      "2\n",
      "1\n"
     ]
    }
   ],
   "source": [
    "number = 10\n",
    "while number >= 1:\n",
    "    print(number)\n",
    "    number = number - 1"
   ]
  },
  {
   "cell_type": "markdown",
   "id": "bc646092-5fd6-436b-929d-41efaea540e0",
   "metadata": {},
   "source": [
    "Ans8"
   ]
  },
  {
   "cell_type": "code",
   "execution_count": 11,
   "id": "ebbea346-acb7-49cb-b1ee-49954ee6487b",
   "metadata": {},
   "outputs": [
    {
     "name": "stdout",
     "output_type": "stream",
     "text": [
      "10\n",
      "9\n",
      "8\n",
      "7\n",
      "6\n",
      "5\n",
      "4\n",
      "3\n",
      "2\n",
      "1\n"
     ]
    }
   ],
   "source": [
    "number = 10\n",
    "while number >= 1:\n",
    "    print(number)\n",
    "    number = number - 1"
   ]
  },
  {
   "cell_type": "code",
   "execution_count": null,
   "id": "65a1b83c-37b7-43f7-9417-5c81ec00e511",
   "metadata": {},
   "outputs": [],
   "source": []
  }
 ],
 "metadata": {
  "kernelspec": {
   "display_name": "Python 3 (ipykernel)",
   "language": "python",
   "name": "python3"
  },
  "language_info": {
   "codemirror_mode": {
    "name": "ipython",
    "version": 3
   },
   "file_extension": ".py",
   "mimetype": "text/x-python",
   "name": "python",
   "nbconvert_exporter": "python",
   "pygments_lexer": "ipython3",
   "version": "3.10.8"
  }
 },
 "nbformat": 4,
 "nbformat_minor": 5
}
