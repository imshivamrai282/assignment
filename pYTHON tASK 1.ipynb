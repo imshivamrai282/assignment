{
 "cells": [
  {
   "cell_type": "code",
   "execution_count": 1,
   "id": "c235c0e6-d6b0-40ce-8d3c-6cbf1ee41b24",
   "metadata": {},
   "outputs": [
    {
     "ename": "NameError",
     "evalue": "name 'Ans1' is not defined",
     "output_type": "error",
     "traceback": [
      "\u001b[0;31m---------------------------------------------------------------------------\u001b[0m",
      "\u001b[0;31mNameError\u001b[0m                                 Traceback (most recent call last)",
      "Cell \u001b[0;32mIn[1], line 1\u001b[0m\n\u001b[0;32m----> 1\u001b[0m \u001b[43mAns1\u001b[49m\n",
      "\u001b[0;31mNameError\u001b[0m: name 'Ans1' is not defined"
     ]
    }
   ],
   "source": [
    "Ans1"
   ]
  },
  {
   "cell_type": "code",
   "execution_count": 2,
   "id": "3aebb9a9-707d-4871-ab97-23780baa82f3",
   "metadata": {},
   "outputs": [],
   "source": [
    "list1 = [1,2,3,4, [44,55,66, True], False, (34,56,78,89,34), {1,2,3,3,2,1},\n",
    "         {1:34, \"key2\": [55, 67, 78, 89], 4: (45,\n",
    "22, 61, 34)}, [56, 'data science'], 'Machine Learning']"
   ]
  },
  {
   "cell_type": "code",
   "execution_count": 3,
   "id": "7f2936a5-49cc-4dff-893e-7e6751866a34",
   "metadata": {},
   "outputs": [],
   "source": [
    "## First we have created a function that will take out all the numeric input\n",
    "# from the given list."
   ]
  },
  {
   "cell_type": "code",
   "execution_count": 4,
   "id": "3883b437-453c-43a1-b2eb-e78e01f4246f",
   "metadata": {},
   "outputs": [],
   "source": [
    "def test(a):\n",
    "    l = []\n",
    "    for i in a:\n",
    "        if type(i) == list or type(i) == tuple or type(i) == set:\n",
    "            for j in i:\n",
    "                if type(j) == int or type(j) == float:\n",
    "                    l.append(j)\n",
    "        elif type(i) == dict:\n",
    "            for key, value in i.items():\n",
    "                if type(key) == int or type(key) == float:\n",
    "                    l.append(key)\n",
    "                if type(value) == int or type(value) == float:\n",
    "                    l.append(value)\n",
    "                elif type(value) == list or type(value) == tuple:\n",
    "                    for v in value:\n",
    "                        if type(v) == int or type(v) == float:\n",
    "                            l.append(v)\n",
    "        elif type(i) == int or type(i) == float:\n",
    "            l.append(i)\n",
    "    return l\n"
   ]
  },
  {
   "cell_type": "code",
   "execution_count": 5,
   "id": "6528a091-abf9-488f-a5ec-76e73d39207f",
   "metadata": {},
   "outputs": [],
   "source": [
    "l1 = test(list1)"
   ]
  },
  {
   "cell_type": "code",
   "execution_count": 6,
   "id": "4142e9ca-918c-4b7b-8d15-2f66bd7c1826",
   "metadata": {},
   "outputs": [],
   "source": [
    "# WE have assign l1 containing all the numeric data of list1"
   ]
  },
  {
   "cell_type": "code",
   "execution_count": 7,
   "id": "6bc8d78e-31b8-4e51-9be9-11d9480a1ae8",
   "metadata": {},
   "outputs": [
    {
     "data": {
      "text/plain": [
       "[1,\n",
       " 2,\n",
       " 3,\n",
       " 4,\n",
       " 44,\n",
       " 55,\n",
       " 66,\n",
       " 34,\n",
       " 56,\n",
       " 78,\n",
       " 89,\n",
       " 34,\n",
       " 1,\n",
       " 2,\n",
       " 3,\n",
       " 1,\n",
       " 34,\n",
       " 55,\n",
       " 67,\n",
       " 78,\n",
       " 89,\n",
       " 4,\n",
       " 45,\n",
       " 22,\n",
       " 61,\n",
       " 34,\n",
       " 56]"
      ]
     },
     "execution_count": 7,
     "metadata": {},
     "output_type": "execute_result"
    }
   ],
   "source": [
    "l1"
   ]
  },
  {
   "cell_type": "code",
   "execution_count": 8,
   "id": "0ed4031e-eee1-4103-b928-58eaaaf8e338",
   "metadata": {},
   "outputs": [],
   "source": [
    "# We have called the rduce function"
   ]
  },
  {
   "cell_type": "code",
   "execution_count": 9,
   "id": "20225a75-d800-40ae-9ff0-5ff83ddc23f1",
   "metadata": {},
   "outputs": [],
   "source": [
    "from functools import reduce"
   ]
  },
  {
   "cell_type": "code",
   "execution_count": 10,
   "id": "51196b97-2e87-47a2-92f6-4b88b7f70ce7",
   "metadata": {},
   "outputs": [],
   "source": [
    "#Now under the reduce function we created a lambda function that will take input\n",
    "# 'x' and 'y' and returns the output x*y "
   ]
  },
  {
   "cell_type": "code",
   "execution_count": 11,
   "id": "6dd5b717-6c57-4d68-8929-dfab9c263905",
   "metadata": {},
   "outputs": [
    {
     "data": {
      "text/plain": [
       "4134711838987085478833841242112000"
      ]
     },
     "execution_count": 11,
     "metadata": {},
     "output_type": "execute_result"
    }
   ],
   "source": [
    "reduce(lambda x,y : x*y,l1)"
   ]
  },
  {
   "cell_type": "code",
   "execution_count": 12,
   "id": "25ff155f-11eb-40b5-8dfc-6f96e20ee046",
   "metadata": {},
   "outputs": [],
   "source": [
    "# WE have obtained the desired outpu"
   ]
  },
  {
   "cell_type": "markdown",
   "id": "21548261-3145-404b-8d1b-78d5ff8c852e",
   "metadata": {},
   "source": [
    "Ans2"
   ]
  },
  {
   "cell_type": "code",
   "execution_count": 14,
   "id": "dc30dec0-1ef9-4479-a620-7d8ccba72c68",
   "metadata": {},
   "outputs": [
    {
     "name": "stdout",
     "output_type": "stream",
     "text": [
      "i$wznt$to$yexome$z$dztz$sxientist.\n"
     ]
    }
   ],
   "source": [
    "message = \"I want to become a Data Scientist.\"\n",
    "encrypted_message = \"\"\n",
    "\n",
    "for letter in message.lower():\n",
    "    if letter == \"a\":\n",
    "        encrypted_message += \"z\"\n",
    "    elif letter == \"b\":\n",
    "        encrypted_message += \"y\"\n",
    "    elif letter == \"c\":\n",
    "        encrypted_message += \"x\"\n",
    "    elif letter == \" \":\n",
    "        encrypted_message += \"$\"\n",
    "    else:\n",
    "        encrypted_message += letter\n",
    "\n",
    "print(encrypted_message.lower())\n"
   ]
  },
  {
   "cell_type": "code",
   "execution_count": 15,
   "id": "583e2ae2-cc6c-4e59-ae3d-a1281bc49bb4",
   "metadata": {},
   "outputs": [],
   "source": [
    "I = \"I want to become a Data Scientist.\""
   ]
  },
  {
   "cell_type": "code",
   "execution_count": 16,
   "id": "ab24781b-e69d-43cb-a6af-d4469efca530",
   "metadata": {},
   "outputs": [],
   "source": [
    "r = I.lower()"
   ]
  },
  {
   "cell_type": "code",
   "execution_count": 18,
   "id": "b730484f-3d4f-47c5-9d69-92dfe03a1482",
   "metadata": {},
   "outputs": [
    {
     "data": {
      "text/plain": [
       "'i want to become a data scientist.'"
      ]
     },
     "execution_count": 18,
     "metadata": {},
     "output_type": "execute_result"
    }
   ],
   "source": [
    "r"
   ]
  },
  {
   "cell_type": "code",
   "execution_count": 21,
   "id": "6e80077e-d0c1-4b63-a1f8-21ad421a3687",
   "metadata": {},
   "outputs": [
    {
     "name": "stdout",
     "output_type": "stream",
     "text": [
      "i$wznt$to$yexome$z$dztz$sxientist.\n"
     ]
    }
   ],
   "source": [
    "encrypted_message = \"\"\n",
    "for i in r: \n",
    "    if i == \"a\":\n",
    "        encrypted_message = encrypted_message + \"z\"\n",
    "    elif i == \"b\":\n",
    "        encrypted_message = encrypted_message + \"y\"\n",
    "    elif i == \"c\":\n",
    "         encrypted_message = encrypted_message + \"x\"\n",
    "    elif i == \" \":\n",
    "        encrypted_message = encrypted_message + \"$\"\n",
    "    else:\n",
    "        encrypted_message = encrypted_message + i\n",
    "print(encrypted_message.lower())\n",
    "    "
   ]
  },
  {
   "cell_type": "code",
   "execution_count": null,
   "id": "c13a2e5a-6e5c-4bd3-9890-416ca35735e5",
   "metadata": {},
   "outputs": [],
   "source": []
  }
 ],
 "metadata": {
  "kernelspec": {
   "display_name": "Python 3 (ipykernel)",
   "language": "python",
   "name": "python3"
  },
  "language_info": {
   "codemirror_mode": {
    "name": "ipython",
    "version": 3
   },
   "file_extension": ".py",
   "mimetype": "text/x-python",
   "name": "python",
   "nbconvert_exporter": "python",
   "pygments_lexer": "ipython3",
   "version": "3.10.8"
  }
 },
 "nbformat": 4,
 "nbformat_minor": 5
}
