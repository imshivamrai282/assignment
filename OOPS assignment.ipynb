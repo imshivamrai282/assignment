{
 "cells": [
  {
   "cell_type": "markdown",
   "id": "d36c693e-0674-400f-85ae-5bd50084bb55",
   "metadata": {},
   "source": [
    "Ans1"
   ]
  },
  {
   "cell_type": "markdown",
   "id": "ce85bb0a-f3f0-48f7-9439-25a28b406397",
   "metadata": {},
   "source": [
    "In object-oriented programming (OOP), a class is a blueprint or template that defines the\n",
    "characteristics and behaviors of objects that belong to it. An object, on the other hand, is \n",
    "an instance of a class. "
   ]
  },
  {
   "cell_type": "code",
   "execution_count": 1,
   "id": "5e69eaca-b59a-47e9-806b-5151f50b8400",
   "metadata": {},
   "outputs": [],
   "source": [
    "## For Example"
   ]
  },
  {
   "cell_type": "code",
   "execution_count": 2,
   "id": "a2330cd1-ba52-4de9-af05-7aaa5bae11a6",
   "metadata": {},
   "outputs": [],
   "source": [
    "class details:\n",
    "    def __init__(self,phone_number,email_id):\n",
    "        self.phone_number = phone_number\n",
    "        self.email_id = email_id\n",
    "    def return_student_details(self):\n",
    "        return self.phone_number, self.email_id\n",
    "    "
   ]
  },
  {
   "cell_type": "code",
   "execution_count": 3,
   "id": "f876b630-a89c-47d3-a8d4-763477fb59f4",
   "metadata": {},
   "outputs": [],
   "source": [
    "## In the above example class = 'details' have attributes like phone_number and email_id. These\n",
    "# attributes gives the basic details of a student.Now to make an object from the above class we \n",
    "# will write the following code."
   ]
  },
  {
   "cell_type": "code",
   "execution_count": 6,
   "id": "6a4cb082-9eea-4ba0-8988-4cf1a30699c2",
   "metadata": {},
   "outputs": [],
   "source": [
    "sudh = details(828763643737, 'sudh228@gmail.com' )"
   ]
  },
  {
   "cell_type": "code",
   "execution_count": 8,
   "id": "6bc178dd-4f47-4ce2-aa12-942f271ec3f9",
   "metadata": {},
   "outputs": [
    {
     "data": {
      "text/plain": [
       "(828763643737, 'sudh228@gmail.com')"
      ]
     },
     "execution_count": 8,
     "metadata": {},
     "output_type": "execute_result"
    }
   ],
   "source": [
    "sudh.return_student_details()"
   ]
  },
  {
   "cell_type": "markdown",
   "id": "49f90f4c-00d8-47e3-ab93-dee8098bca3c",
   "metadata": {},
   "source": [
    "Ans2"
   ]
  },
  {
   "cell_type": "markdown",
   "id": "6de2a669-711d-4e09-83d3-5dc94107142e",
   "metadata": {},
   "source": [
    "1 - Encapsulation: Encapsulation is the practice of hiding the internal details of an \n",
    "object and only exposing a public interface for interacting with that object. This helps \n",
    "to ensure that the object is used correctly and prevents unauthorized access to its internal\n",
    "state.\n",
    "2- Abstraction: Abstraction is the process of identifying the essential features of an object \n",
    "and ignoring everything else. This helps to simplify the complexity of the system and make it \n",
    "easier to reason about.\n",
    "3 - Inheritance: Inheritance is the mechanism by which one class can inherit properties and \n",
    "methods from another class. This helps to reduce code duplication and promote code reuse.\n",
    "4 - Polymorphism: Polymorphism is the ability of an object to take on multiple forms. This\n",
    "allows objects of different classes to be treated as if they were of the same class, which \n",
    "promotes flexibility and extensibility in the code."
   ]
  },
  {
   "cell_type": "markdown",
   "id": "3593babe-9d91-4a11-85a6-6186c09770f9",
   "metadata": {},
   "source": [
    "Ans3"
   ]
  },
  {
   "cell_type": "markdown",
   "id": "03ab94c5-e686-4781-b6e8-610994a22ca9",
   "metadata": {},
   "source": [
    "In object-oriented programming (OOP), the __init__() function is a special method that is\n",
    "called when an object of a class is created. It is used to initialize the attributes of the \n",
    "object and set their initial values."
   ]
  },
  {
   "cell_type": "code",
   "execution_count": 9,
   "id": "6764ab58-62ed-4f35-83de-7909e98482e8",
   "metadata": {},
   "outputs": [],
   "source": [
    "## For example \n",
    "class pwskills1:\n",
    "    \n",
    "    def __init__(self,phone_number,email_id,student_it):\n",
    "        self.phone_number = phone_number\n",
    "        self.email_id = email_id\n",
    "        self.student_it = student_it\n",
    "    def  return_student_details(self) :\n",
    "        return self.phone_number, self.email_id,self.student_it"
   ]
  },
  {
   "cell_type": "markdown",
   "id": "dd927610-5a24-4ac4-987e-32fe60d8c9fb",
   "metadata": {},
   "source": [
    "Ans4"
   ]
  },
  {
   "cell_type": "markdown",
   "id": "dabc1cad-30ae-4fc4-bdba-c5d26a1b527a",
   "metadata": {},
   "source": [
    "In object-oriented programming (OOP), self is a reference to the instance of a class. \n",
    "It is used to access the attributes and methods of the object that the method is being called\n",
    "on.\n",
    "\n",
    "When a method is called on an object, self is automatically passed as the first argument to \n",
    "that method. This allows the method to access and modify the attributes of the object."
   ]
  },
  {
   "cell_type": "markdown",
   "id": "5ea3b013-7f94-41f4-8b66-78cac232f6c4",
   "metadata": {},
   "source": [
    "Ans5"
   ]
  },
  {
   "cell_type": "markdown",
   "id": "c18801d4-8e64-4ad5-ae00-294c2266ba1d",
   "metadata": {},
   "source": [
    "you have not taught the concept of inheritance yet."
   ]
  },
  {
   "cell_type": "code",
   "execution_count": null,
   "id": "ff55461e-4ff6-43b7-b180-55fcc4dce38f",
   "metadata": {},
   "outputs": [],
   "source": []
  }
 ],
 "metadata": {
  "kernelspec": {
   "display_name": "Python 3 (ipykernel)",
   "language": "python",
   "name": "python3"
  },
  "language_info": {
   "codemirror_mode": {
    "name": "ipython",
    "version": 3
   },
   "file_extension": ".py",
   "mimetype": "text/x-python",
   "name": "python",
   "nbconvert_exporter": "python",
   "pygments_lexer": "ipython3",
   "version": "3.10.8"
  }
 },
 "nbformat": 4,
 "nbformat_minor": 5
}
